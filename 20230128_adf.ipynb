{
 "cells": [
  {
   "cell_type": "code",
   "execution_count": 9,
   "metadata": {},
   "outputs": [],
   "source": [
    "import numpy as np\n",
    "import pandas as pd\n",
    "import matplotlib.pyplot as plt\n",
    "import datetime\n",
    "import sklearn.metrics as metrics\n",
    "\n",
    "from sklearn.model_selection import TimeSeriesSplit\n",
    "from sklearn.neural_network import MLPRegressor\n",
    "from sklearn.neighbors import KNeighborsRegressor\n",
    "from sklearn.ensemble import RandomForestRegressor\n",
    "from sklearn.svm import SVR\n",
    "from sklearn.model_selection import cross_val_score\n",
    "from sklearn.linear_model import LinearRegression\n",
    "\n",
    "# https://www.statsmodels.org/dev/examples/notebooks/generated/stationarity_detrending_adf_kpss.html\n",
    "import statsmodels.api as sm\n",
    "from statsmodels.tsa.stattools import adfuller\n",
    "from statsmodels.tsa.stattools import kpss\n",
    "\n",
    "\n",
    "# https://towardsdatascience.com/time-series-modeling-using-scikit-pandas-and-numpy-682e3b8db8d1\n",
    "# https://facebook.github.io/prophet/docs/quick_start.html#python-api"
   ]
  },
  {
   "cell_type": "code",
   "execution_count": 10,
   "metadata": {},
   "outputs": [],
   "source": [
    "def adf_test(timeseries):\n",
    "    print(\"Results of Dickey-Fuller Test:\")\n",
    "    dftest = adfuller(timeseries, autolag=\"AIC\")\n",
    "    dfoutput = pd.Series(\n",
    "        dftest[0:4],\n",
    "        index=[\n",
    "            \"Test Statistic\",\n",
    "            \"p-value\",\n",
    "            \"#Lags Used\",\n",
    "            \"Number of Observations Used\",\n",
    "        ],\n",
    "    )\n",
    "    for key, value in dftest[4].items():\n",
    "        dfoutput[\"Critical Value (%s)\" % key] = value\n",
    "    print(dfoutput)"
   ]
  },
  {
   "cell_type": "code",
   "execution_count": 11,
   "metadata": {},
   "outputs": [],
   "source": [
    "# ADF test is used to determine the presence of unit root in the series, and hence helps in understand if the series is stationary or not. The null and alternate hypothesis of this test are:\n",
    "\n",
    "# Null Hypothesis: The series has a unit root. (p-value > 0.05)\n",
    "# Alternate Hypothesis: The series has no unit root. (p-value < 0.05)\n",
    "\n",
    "# If the null hypothesis in failed to be rejected, this test may provide evidence that the series is non-stationary.\n",
    "\n",
    "# A function is created to carry out the ADF test on a time series.\n",
    "\n",
    "def kpss_test(timeseries):\n",
    "    print(\"Results of KPSS Test:\")\n",
    "    kpsstest = kpss(timeseries, regression=\"c\", nlags=\"auto\")\n",
    "    kpss_output = pd.Series(\n",
    "        kpsstest[0:3], index=[\"Test Statistic\", \"p-value\", \"Lags Used\"]\n",
    "    )\n",
    "    for key, value in kpsstest[3].items():\n",
    "        kpss_output[\"Critical Value (%s)\" % key] = value\n",
    "    print(kpss_output)"
   ]
  },
  {
   "cell_type": "code",
   "execution_count": 12,
   "metadata": {},
   "outputs": [
    {
     "data": {
      "text/html": [
       "<div>\n",
       "<style scoped>\n",
       "    .dataframe tbody tr th:only-of-type {\n",
       "        vertical-align: middle;\n",
       "    }\n",
       "\n",
       "    .dataframe tbody tr th {\n",
       "        vertical-align: top;\n",
       "    }\n",
       "\n",
       "    .dataframe thead th {\n",
       "        text-align: right;\n",
       "    }\n",
       "</style>\n",
       "<table border=\"1\" class=\"dataframe\">\n",
       "  <thead>\n",
       "    <tr style=\"text-align: right;\">\n",
       "      <th></th>\n",
       "      <th>incoming_bid_avg_sun</th>\n",
       "      <th>incoming_bid_avg_sbn</th>\n",
       "      <th>dpk_bankumum</th>\n",
       "      <th>dv_bankindonesia</th>\n",
       "      <th>vix_index</th>\n",
       "      <th>bfcius_bberg</th>\n",
       "    </tr>\n",
       "    <tr>\n",
       "      <th>date</th>\n",
       "      <th></th>\n",
       "      <th></th>\n",
       "      <th></th>\n",
       "      <th></th>\n",
       "      <th></th>\n",
       "      <th></th>\n",
       "    </tr>\n",
       "  </thead>\n",
       "  <tbody>\n",
       "    <tr>\n",
       "      <th>2012-01-01</th>\n",
       "      <td>38.90175</td>\n",
       "      <td>38.901750</td>\n",
       "      <td>2770.57007</td>\n",
       "      <td>0</td>\n",
       "      <td>20.403182</td>\n",
       "      <td>-1.200591</td>\n",
       "    </tr>\n",
       "    <tr>\n",
       "      <th>2012-02-01</th>\n",
       "      <td>32.32425</td>\n",
       "      <td>18.457750</td>\n",
       "      <td>2763.94286</td>\n",
       "      <td>0</td>\n",
       "      <td>18.390000</td>\n",
       "      <td>-0.785571</td>\n",
       "    </tr>\n",
       "    <tr>\n",
       "      <th>2012-03-01</th>\n",
       "      <td>12.35250</td>\n",
       "      <td>8.043250</td>\n",
       "      <td>2825.97490</td>\n",
       "      <td>0</td>\n",
       "      <td>16.167273</td>\n",
       "      <td>-0.655591</td>\n",
       "    </tr>\n",
       "    <tr>\n",
       "      <th>2012-04-01</th>\n",
       "      <td>17.16300</td>\n",
       "      <td>11.396250</td>\n",
       "      <td>2841.36139</td>\n",
       "      <td>0</td>\n",
       "      <td>17.769524</td>\n",
       "      <td>-0.710952</td>\n",
       "    </tr>\n",
       "    <tr>\n",
       "      <th>2012-05-01</th>\n",
       "      <td>14.01525</td>\n",
       "      <td>8.320625</td>\n",
       "      <td>2908.95747</td>\n",
       "      <td>0</td>\n",
       "      <td>21.034783</td>\n",
       "      <td>-0.828000</td>\n",
       "    </tr>\n",
       "  </tbody>\n",
       "</table>\n",
       "</div>"
      ],
      "text/plain": [
       "            incoming_bid_avg_sun  incoming_bid_avg_sbn  dpk_bankumum  \\\n",
       "date                                                                   \n",
       "2012-01-01              38.90175             38.901750    2770.57007   \n",
       "2012-02-01              32.32425             18.457750    2763.94286   \n",
       "2012-03-01              12.35250              8.043250    2825.97490   \n",
       "2012-04-01              17.16300             11.396250    2841.36139   \n",
       "2012-05-01              14.01525              8.320625    2908.95747   \n",
       "\n",
       "            dv_bankindonesia  vix_index  bfcius_bberg  \n",
       "date                                                   \n",
       "2012-01-01                 0  20.403182     -1.200591  \n",
       "2012-02-01                 0  18.390000     -0.785571  \n",
       "2012-03-01                 0  16.167273     -0.655591  \n",
       "2012-04-01                 0  17.769524     -0.710952  \n",
       "2012-05-01                 0  21.034783     -0.828000  "
      ]
     },
     "execution_count": 12,
     "metadata": {},
     "output_type": "execute_result"
    }
   ],
   "source": [
    "# Data download\n",
    "# ==============================================================================\n",
    "url = ('https://raw.githubusercontent.com/arifpras/forecastingDemand/main/20230126_database.csv')\n",
    "data = pd.read_csv(url, sep=',', header=0, names=['month', 'incoming_bid_avg_sun', 'incoming_bid_avg_sbn', 'dpk_bankumum', 'dv_bankindonesia', 'vix_index', 'bfcius_bberg'])\n",
    "\n",
    "# Data preparation\n",
    "# ==============================================================================\n",
    "data = data.rename(columns={'month': 'date'})\n",
    "data['date'] = pd.to_datetime(data['date'], format='%Y/%m/%d')\n",
    "data = data.set_index('date')\n",
    "# data = data.rename(columns={'incoming_bid_avg_sun': 'incoming_bid_avg_sun'})\n",
    "data = data.asfreq('MS')\n",
    "data = data.sort_index()\n",
    "data.head()"
   ]
  },
  {
   "cell_type": "code",
   "execution_count": 15,
   "metadata": {},
   "outputs": [
    {
     "data": {
      "text/plain": [
       "(-1.197427392462703,\n",
       " 0.674701402476912,\n",
       " 6,\n",
       " 119,\n",
       " {'1%': -3.4865346059036564,\n",
       "  '5%': -2.8861509858476264,\n",
       "  '10%': -2.579896092790057},\n",
       " 969.5112686044872)"
      ]
     },
     "execution_count": 15,
     "metadata": {},
     "output_type": "execute_result"
    }
   ],
   "source": [
    "sm.tsa.stattools.adfuller(data[['incoming_bid_avg_sun']], maxlag=None, regression='c', autolag='AIC', store=False, regresults=False)"
   ]
  },
  {
   "cell_type": "code",
   "execution_count": 18,
   "metadata": {},
   "outputs": [
    {
     "name": "stdout",
     "output_type": "stream",
     "text": [
      "Results of Dickey-Fuller Test:\n",
      "Test Statistic                  -1.197427\n",
      "p-value                          0.674701\n",
      "#Lags Used                       6.000000\n",
      "Number of Observations Used    119.000000\n",
      "Critical Value (1%)             -3.486535\n",
      "Critical Value (5%)             -2.886151\n",
      "Critical Value (10%)            -2.579896\n",
      "dtype: float64\n"
     ]
    }
   ],
   "source": [
    "adf_test(data['incoming_bid_avg_sun'])\n",
    "# kpss_test(data['incoming_bid_avg_sun'])"
   ]
  },
  {
   "cell_type": "code",
   "execution_count": 19,
   "metadata": {},
   "outputs": [
    {
     "name": "stdout",
     "output_type": "stream",
     "text": [
      "Results of Dickey-Fuller Test:\n",
      "Test Statistic                   1.854171\n",
      "p-value                          0.998451\n",
      "#Lags Used                       8.000000\n",
      "Number of Observations Used    117.000000\n",
      "Critical Value (1%)             -3.487517\n",
      "Critical Value (5%)             -2.886578\n",
      "Critical Value (10%)            -2.580124\n",
      "dtype: float64\n"
     ]
    }
   ],
   "source": [
    "adf_test(data['dpk_bankumum'])"
   ]
  },
  {
   "cell_type": "code",
   "execution_count": 20,
   "metadata": {},
   "outputs": [
    {
     "name": "stdout",
     "output_type": "stream",
     "text": [
      "Results of Dickey-Fuller Test:\n",
      "Test Statistic                  -4.340198\n",
      "p-value                          0.000378\n",
      "#Lags Used                       0.000000\n",
      "Number of Observations Used    125.000000\n",
      "Critical Value (1%)             -3.483779\n",
      "Critical Value (5%)             -2.884954\n",
      "Critical Value (10%)            -2.579257\n",
      "dtype: float64\n"
     ]
    }
   ],
   "source": [
    "adf_test(data['vix_index'])"
   ]
  },
  {
   "cell_type": "code",
   "execution_count": 21,
   "metadata": {},
   "outputs": [
    {
     "name": "stdout",
     "output_type": "stream",
     "text": [
      "Results of Dickey-Fuller Test:\n",
      "Test Statistic                  -3.761603\n",
      "p-value                          0.003326\n",
      "#Lags Used                       2.000000\n",
      "Number of Observations Used    123.000000\n",
      "Critical Value (1%)             -3.484667\n",
      "Critical Value (5%)             -2.885340\n",
      "Critical Value (10%)            -2.579463\n",
      "dtype: float64\n"
     ]
    }
   ],
   "source": [
    "adf_test(data['bfcius_bberg'])"
   ]
  },
  {
   "cell_type": "code",
   "execution_count": null,
   "metadata": {},
   "outputs": [],
   "source": [
    "# creating new dataframe from incoming_bid_avg_sun column\n",
    "data_incbid = data[['incoming_bid_avg_sun']]\n",
    "# inserting new column with dpk_bankumum values\n",
    "data_incbid.loc[:,'dpk_bankumum_t-1'] = data[['dpk_bankumum']].shift()\n",
    "# inserting new column with dv_bankindonesia values\n",
    "data_incbid.loc[:,'dv_bankindonesia'] = data[['dv_bankindonesia']]\n",
    "# inserting new column with dpk_bankumum values\n",
    "data_incbid.loc[:,'vix_index'] = data[['vix_index']]\n",
    "\n",
    "# dropping NAs\n",
    "data_incbid = data_incbid.dropna()\n",
    "\n",
    "data_incbid"
   ]
  }
 ],
 "metadata": {
  "kernelspec": {
   "display_name": "spyder-env",
   "language": "python",
   "name": "python3"
  },
  "language_info": {
   "codemirror_mode": {
    "name": "ipython",
    "version": 3
   },
   "file_extension": ".py",
   "mimetype": "text/x-python",
   "name": "python",
   "nbconvert_exporter": "python",
   "pygments_lexer": "ipython3",
   "version": "3.10.8 | packaged by conda-forge | (main, Nov 22 2022, 08:25:13) [Clang 14.0.6 ]"
  },
  "orig_nbformat": 4,
  "vscode": {
   "interpreter": {
    "hash": "678e08dca2c69774c234fd76621d3e85e66bd4e52fc73ec207a9d98fc56ca770"
   }
  }
 },
 "nbformat": 4,
 "nbformat_minor": 2
}
